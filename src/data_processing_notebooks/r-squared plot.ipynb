{
 "cells": [
  {
   "cell_type": "code",
   "execution_count": 2,
   "metadata": {},
   "outputs": [],
   "source": [
    "our_model_kiba_file = \"../../data/elia/atc-kiba-predictions.txt\"\n",
    "baseline_model_kiba_file = \"../../data/elia/baseline-kiba-predictions.txt\""
   ]
  },
  {
   "cell_type": "code",
   "execution_count": 3,
   "metadata": {},
   "outputs": [],
   "source": [
    "import pandas as pd\n",
    "\n",
    "our_model_kiba = pd.read_csv(our_model_kiba_file)\n",
    "baseline_model_kiba = pd.read_csv(baseline_model_kiba_file)"
   ]
  },
  {
   "cell_type": "code",
   "execution_count": 4,
   "metadata": {},
   "outputs": [
    {
     "data": {
      "text/html": [
       "<div>\n",
       "<style scoped>\n",
       "    .dataframe tbody tr th:only-of-type {\n",
       "        vertical-align: middle;\n",
       "    }\n",
       "\n",
       "    .dataframe tbody tr th {\n",
       "        vertical-align: top;\n",
       "    }\n",
       "\n",
       "    .dataframe thead th {\n",
       "        text-align: right;\n",
       "    }\n",
       "</style>\n",
       "<table border=\"1\" class=\"dataframe\">\n",
       "  <thead>\n",
       "    <tr style=\"text-align: right;\">\n",
       "      <th></th>\n",
       "      <th>chemid</th>\n",
       "      <th>pid</th>\n",
       "      <th>y_hat</th>\n",
       "      <th>y</th>\n",
       "    </tr>\n",
       "  </thead>\n",
       "  <tbody>\n",
       "    <tr>\n",
       "      <th>0</th>\n",
       "      <td>CHEMBL1984586</td>\n",
       "      <td>P36888</td>\n",
       "      <td>11.970232</td>\n",
       "      <td>14.400163</td>\n",
       "    </tr>\n",
       "    <tr>\n",
       "      <th>1</th>\n",
       "      <td>CHEMBL2000029</td>\n",
       "      <td>P49760</td>\n",
       "      <td>11.958051</td>\n",
       "      <td>12.399998</td>\n",
       "    </tr>\n",
       "    <tr>\n",
       "      <th>2</th>\n",
       "      <td>CHEMBL1967720</td>\n",
       "      <td>P49841</td>\n",
       "      <td>11.965219</td>\n",
       "      <td>11.400001</td>\n",
       "    </tr>\n",
       "    <tr>\n",
       "      <th>3</th>\n",
       "      <td>CHEMBL1967211</td>\n",
       "      <td>Q9UM73</td>\n",
       "      <td>11.955622</td>\n",
       "      <td>10.100000</td>\n",
       "    </tr>\n",
       "    <tr>\n",
       "      <th>4</th>\n",
       "      <td>CHEMBL1975490</td>\n",
       "      <td>P48729</td>\n",
       "      <td>11.951066</td>\n",
       "      <td>12.699998</td>\n",
       "    </tr>\n",
       "    <tr>\n",
       "      <th>...</th>\n",
       "      <td>...</td>\n",
       "      <td>...</td>\n",
       "      <td>...</td>\n",
       "      <td>...</td>\n",
       "    </tr>\n",
       "    <tr>\n",
       "      <th>19704</th>\n",
       "      <td>CHEMBL1997023</td>\n",
       "      <td>Q13976</td>\n",
       "      <td>11.967000</td>\n",
       "      <td>11.800000</td>\n",
       "    </tr>\n",
       "    <tr>\n",
       "      <th>19705</th>\n",
       "      <td>CHEMBL1996155</td>\n",
       "      <td>Q05655</td>\n",
       "      <td>11.955944</td>\n",
       "      <td>11.200000</td>\n",
       "    </tr>\n",
       "    <tr>\n",
       "      <th>19706</th>\n",
       "      <td>CHEMBL1614705</td>\n",
       "      <td>Q16620</td>\n",
       "      <td>11.965087</td>\n",
       "      <td>11.400001</td>\n",
       "    </tr>\n",
       "    <tr>\n",
       "      <th>19707</th>\n",
       "      <td>CHEMBL1996208</td>\n",
       "      <td>O00444</td>\n",
       "      <td>11.973084</td>\n",
       "      <td>11.500000</td>\n",
       "    </tr>\n",
       "    <tr>\n",
       "      <th>19708</th>\n",
       "      <td>CHEMBL1975900</td>\n",
       "      <td>O00418</td>\n",
       "      <td>11.964237</td>\n",
       "      <td>11.500000</td>\n",
       "    </tr>\n",
       "  </tbody>\n",
       "</table>\n",
       "<p>19709 rows × 4 columns</p>\n",
       "</div>"
      ],
      "text/plain": [
       "              chemid     pid      y_hat          y\n",
       "0      CHEMBL1984586  P36888  11.970232  14.400163\n",
       "1      CHEMBL2000029  P49760  11.958051  12.399998\n",
       "2      CHEMBL1967720  P49841  11.965219  11.400001\n",
       "3      CHEMBL1967211  Q9UM73  11.955622  10.100000\n",
       "4      CHEMBL1975490  P48729  11.951066  12.699998\n",
       "...              ...     ...        ...        ...\n",
       "19704  CHEMBL1997023  Q13976  11.967000  11.800000\n",
       "19705  CHEMBL1996155  Q05655  11.955944  11.200000\n",
       "19706  CHEMBL1614705  Q16620  11.965087  11.400001\n",
       "19707  CHEMBL1996208  O00444  11.973084  11.500000\n",
       "19708  CHEMBL1975900  O00418  11.964237  11.500000\n",
       "\n",
       "[19709 rows x 4 columns]"
      ]
     },
     "execution_count": 4,
     "metadata": {},
     "output_type": "execute_result"
    }
   ],
   "source": [
    "our_model_kiba"
   ]
  },
  {
   "cell_type": "code",
   "execution_count": 5,
   "metadata": {},
   "outputs": [
    {
     "data": {
      "text/html": [
       "<div>\n",
       "<style scoped>\n",
       "    .dataframe tbody tr th:only-of-type {\n",
       "        vertical-align: middle;\n",
       "    }\n",
       "\n",
       "    .dataframe tbody tr th {\n",
       "        vertical-align: top;\n",
       "    }\n",
       "\n",
       "    .dataframe thead th {\n",
       "        text-align: right;\n",
       "    }\n",
       "</style>\n",
       "<table border=\"1\" class=\"dataframe\">\n",
       "  <thead>\n",
       "    <tr style=\"text-align: right;\">\n",
       "      <th></th>\n",
       "      <th>chemid</th>\n",
       "      <th>pid</th>\n",
       "      <th>y_hat</th>\n",
       "      <th>y</th>\n",
       "    </tr>\n",
       "  </thead>\n",
       "  <tbody>\n",
       "    <tr>\n",
       "      <th>0</th>\n",
       "      <td>CHEMBL1984586</td>\n",
       "      <td>P36888</td>\n",
       "      <td>12.293932</td>\n",
       "      <td>14.400163</td>\n",
       "    </tr>\n",
       "    <tr>\n",
       "      <th>1</th>\n",
       "      <td>CHEMBL2000029</td>\n",
       "      <td>P49760</td>\n",
       "      <td>12.272488</td>\n",
       "      <td>12.399998</td>\n",
       "    </tr>\n",
       "    <tr>\n",
       "      <th>2</th>\n",
       "      <td>CHEMBL1967720</td>\n",
       "      <td>P49841</td>\n",
       "      <td>12.206654</td>\n",
       "      <td>11.400001</td>\n",
       "    </tr>\n",
       "    <tr>\n",
       "      <th>3</th>\n",
       "      <td>CHEMBL1967211</td>\n",
       "      <td>Q9UM73</td>\n",
       "      <td>12.229422</td>\n",
       "      <td>10.100000</td>\n",
       "    </tr>\n",
       "    <tr>\n",
       "      <th>4</th>\n",
       "      <td>CHEMBL1975490</td>\n",
       "      <td>P48729</td>\n",
       "      <td>12.134521</td>\n",
       "      <td>12.699998</td>\n",
       "    </tr>\n",
       "    <tr>\n",
       "      <th>...</th>\n",
       "      <td>...</td>\n",
       "      <td>...</td>\n",
       "      <td>...</td>\n",
       "      <td>...</td>\n",
       "    </tr>\n",
       "    <tr>\n",
       "      <th>19704</th>\n",
       "      <td>CHEMBL1997023</td>\n",
       "      <td>Q13976</td>\n",
       "      <td>12.226660</td>\n",
       "      <td>11.800000</td>\n",
       "    </tr>\n",
       "    <tr>\n",
       "      <th>19705</th>\n",
       "      <td>CHEMBL1996155</td>\n",
       "      <td>Q05655</td>\n",
       "      <td>12.188390</td>\n",
       "      <td>11.200000</td>\n",
       "    </tr>\n",
       "    <tr>\n",
       "      <th>19706</th>\n",
       "      <td>CHEMBL1614705</td>\n",
       "      <td>Q16620</td>\n",
       "      <td>12.317738</td>\n",
       "      <td>11.400001</td>\n",
       "    </tr>\n",
       "    <tr>\n",
       "      <th>19707</th>\n",
       "      <td>CHEMBL1996208</td>\n",
       "      <td>O00444</td>\n",
       "      <td>12.333213</td>\n",
       "      <td>11.500000</td>\n",
       "    </tr>\n",
       "    <tr>\n",
       "      <th>19708</th>\n",
       "      <td>CHEMBL1975900</td>\n",
       "      <td>O00418</td>\n",
       "      <td>12.297709</td>\n",
       "      <td>11.500000</td>\n",
       "    </tr>\n",
       "  </tbody>\n",
       "</table>\n",
       "<p>19709 rows × 4 columns</p>\n",
       "</div>"
      ],
      "text/plain": [
       "              chemid     pid      y_hat          y\n",
       "0      CHEMBL1984586  P36888  12.293932  14.400163\n",
       "1      CHEMBL2000029  P49760  12.272488  12.399998\n",
       "2      CHEMBL1967720  P49841  12.206654  11.400001\n",
       "3      CHEMBL1967211  Q9UM73  12.229422  10.100000\n",
       "4      CHEMBL1975490  P48729  12.134521  12.699998\n",
       "...              ...     ...        ...        ...\n",
       "19704  CHEMBL1997023  Q13976  12.226660  11.800000\n",
       "19705  CHEMBL1996155  Q05655  12.188390  11.200000\n",
       "19706  CHEMBL1614705  Q16620  12.317738  11.400001\n",
       "19707  CHEMBL1996208  O00444  12.333213  11.500000\n",
       "19708  CHEMBL1975900  O00418  12.297709  11.500000\n",
       "\n",
       "[19709 rows x 4 columns]"
      ]
     },
     "execution_count": 5,
     "metadata": {},
     "output_type": "execute_result"
    }
   ],
   "source": [
    "baseline_model_kiba"
   ]
  },
  {
   "cell_type": "code",
   "execution_count": 25,
   "metadata": {},
   "outputs": [
    {
     "name": "stdout",
     "output_type": "stream",
     "text": [
      "0.042634927765746504\n",
      "17.012052988363205\n",
      "-191.70585022664565\n",
      "0.7332302018399216\n",
      "R-squared: 0.042634927765746504\n",
      "Mean squared error: 0.7332302018399216\n"
     ]
    },
    {
     "data": {
      "image/png": "[encoded data removed]",
      "text/plain": [
       "<Figure size 432x288 with 1 Axes>"
      ]
     },
     "metadata": {},
     "output_type": "display_data"
    }
   ],
   "source": [
    "import matplotlib.pyplot as plt\n",
    "from pylab import *\n",
    "from matplotlib import rc\n",
    "import matplotlib.lines as mlines\n",
    "import scipy.stats\n",
    "from sklearn.metrics import mean_squared_error\n",
    "\n",
    "'''\n",
    "fig = plt.figure()\n",
    "plt.plot(accs,'Dg-',zorder=30, linewidth=2, markersize=6)\n",
    "plt.xticks(np.arange(8), [0, 0.001, 0.01, 0.1, 1, 10, 100, 1000])\n",
    "\n",
    "plt.ylabel(y_lab, fontsize=16, fontweight='bold', family='Arial')\n",
    "plt.xlabel(x_lab, fontsize=16, fontweight='bold', family='Arial')\n",
    "\n",
    "\n",
    "\n",
    "'''\n",
    "\n",
    "\n",
    "def r_square_plot(x,y,title):\n",
    "    \n",
    "    # rsquare\n",
    "    slope, intercept, r_value, p_value, std_err = scipy.stats.linregress(x, y)\n",
    "    rsquare = r_value**2\n",
    "    \n",
    "    print(rsquare)\n",
    "    print(slope)\n",
    "    print(intercept)\n",
    "    \n",
    "    # mse\n",
    "    mse = mean_squared_error(x,y)\n",
    "    print(mse)\n",
    "    \n",
    "    # plot x vs y\n",
    "    fig = plt.figure()\n",
    "    plt.scatter(x,y)\n",
    "    \n",
    "    \"\"\"\n",
    "    Plot a line from slope and intercept\n",
    "    https://stackoverflow.com/questions/7941226/how-to-add-line-based-on-slope-and-intercept-in-matplotlib\n",
    "    \"\"\"\n",
    "    axes = plt.gca()\n",
    "    x_vals = np.array(axes.get_xlim())\n",
    "    y_vals = intercept + slope * x_vals\n",
    "    plt.plot(x_vals, y_vals, '--k')\n",
    "    \n",
    "    \n",
    "    plt.ylabel(\"Actual Affinity Score\")\n",
    "    plt.xlabel(\"Predicted Affinity Score\")\n",
    "    plt.title(title)\n",
    "    \n",
    "    '''\n",
    "    plt.ylabel(\"Actual Affinity Score\",fontsize=16, fontweight='bold', family='Arial')\n",
    "    plt.xlabel(\"Predicted Affinity Score\",fontsize=16, fontweight='bold', family='Arial')\n",
    "    plt.title(title,fontsize=20, fontweight='bold', family='Arial')\n",
    "    ax = gca()\n",
    "    ax.tick_params(direction='in', length=6, width=2)\n",
    "    for tick in ax.xaxis.get_major_ticks():\n",
    "        tick.label1.set_fontproperties('Arial')\n",
    "        tick.label1.set_fontsize(12)\n",
    "        tick.label1.set_fontweight('bold')\n",
    "    for tick in ax.yaxis.get_major_ticks():\n",
    "        tick.label1.set_fontproperties('Arial')\n",
    "        tick.label1.set_fontsize(12)\n",
    "        tick.label1.set_fontweight('bold')\n",
    "    ax.spines['bottom'].set_linewidth(2)\n",
    "    ax.spines['left'].set_linewidth(2)\n",
    "    ax.spines['top'].set_linewidth(2)\n",
    "    ax.spines['right'].set_linewidth(2)\n",
    "    '''\n",
    "    return rsquare, mse\n",
    "\n",
    "rsquare, mse = r_square_plot(our_model_kiba['y_hat'],our_model_kiba['y'],\"ATC-MT-DTI\")\n",
    "print(\"R-squared: \"+str(rsquare))\n",
    "print(\"Mean squared error: \"+str(mse))"
   ]
  },
  {
   "cell_type": "code",
   "execution_count": 24,
   "metadata": {},
   "outputs": [
    {
     "name": "stdout",
     "output_type": "stream",
     "text": [
      "0.003189349378591116\n",
      "0.7037547599195352\n",
      "3.0976931962048972\n",
      "0.9604096723765186\n",
      "R-squared: 0.003189349378591116\n",
      "Mean squared error: 0.9604096723765186\n"
     ]
    },
    {
     "data": {
      "image/png": "[encoded data removed]",
      "text/plain": [
       "<Figure size 432x288 with 1 Axes>"
      ]
     },
     "metadata": {},
     "output_type": "display_data"
    }
   ],
   "source": [
    "rsquare, mse = r_square_plot(baseline_model_kiba['y_hat'],baseline_model_kiba['y'],\"Baseline model\")\n",
    "print(\"R-squared: \"+str(rsquare))\n",
    "print(\"Mean squared error: \"+str(mse))"
   ]
  },
  {
   "cell_type": "code",
   "execution_count": 8,
   "metadata": {},
   "outputs": [
    {
     "name": "stdout",
     "output_type": "stream",
     "text": [
      "Range, average value: (11.922647999999999, 11.989483), 11.957702696077934\n"
     ]
    }
   ],
   "source": [
    "min_yhat = min(our_model_kiba['y_hat'])\n",
    "max_yhat = max(our_model_kiba['y_hat'])\n",
    "avg_yhat = sum(our_model_kiba['y_hat'])/len(our_model_kiba['y_hat'])\n",
    "\n",
    "print(\"Range, average value: \"+str((min_yhat,max_yhat))+\", \"+str(avg_yhat))"
   ]
  },
  {
   "cell_type": "code",
   "execution_count": 9,
   "metadata": {},
   "outputs": [
    {
     "name": "stdout",
     "output_type": "stream",
     "text": [
      "Range, average value: (12.106459, 12.4836), 12.250756872900707\n"
     ]
    }
   ],
   "source": [
    "min_yhat = min(baseline_model_kiba['y_hat'])\n",
    "max_yhat = max(baseline_model_kiba['y_hat'])\n",
    "avg_yhat = sum(baseline_model_kiba['y_hat'])/len(baseline_model_kiba['y_hat'])\n",
    "\n",
    "print(\"Range, average value: \"+str((min_yhat,max_yhat))+\", \"+str(avg_yhat))"
   ]
  },
  {
   "cell_type": "code",
   "execution_count": 10,
   "metadata": {},
   "outputs": [
    {
     "name": "stdout",
     "output_type": "stream",
     "text": [
      "Range, average value: (6.1, 16.1), 11.71922165812573\n"
     ]
    }
   ],
   "source": [
    "min_yhat = min(baseline_model_kiba['y'])\n",
    "max_yhat = max(baseline_model_kiba['y'])\n",
    "avg_yhat = sum(baseline_model_kiba['y'])/len(baseline_model_kiba['y'])\n",
    "\n",
    "print(\"Range, average value: \"+str((min_yhat,max_yhat))+\", \"+str(avg_yhat))"
   ]
  },
  {
   "cell_type": "code",
   "execution_count": null,
   "metadata": {},
   "outputs": [],
   "source": [
    "def histogram(y_pred_vals, y_actual_vals, title):\n",
    "    \n",
    "    \n",
    "    \n",
    "    import matplotlib.pyplot as plt\n",
    "def histogram(d):\n",
    "    # An \"interface\" to matplotlib.axes.Axes.hist() method\n",
    "    n, bins, patches = plt.hist(x=d, bins=np.arange(1,13), color='#0504aa',\n",
    "                            alpha=0.7, rwidth=0.85,align='left')\n",
    "    #n, bins, patches = plt.hist(x=d, bins='auto', color='#0504aa',\n",
    "    #                        alpha=0.7, rwidth=0.85)\n",
    "    #print(bins)\n",
    "    plt.grid(axis='y', alpha=0.75)\n",
    "    plt.xlabel('Number of occurences of drug')\n",
    "    plt.ylabel('Frequency')\n",
    "    plt.title('Histogram of drug occurences')\n",
    "    plt.xticks(np.arange(1, 12, step=1))\n",
    "    maxfreq = n.max()\n",
    "    # Set a clean upper y-axis limit.\n",
    "    #plt.ylim(ymax=np.ceil(maxfreq / 10) * 10 if maxfreq % 10 else maxfreq + 10)\n",
    "    plt.ylim(ymax=400)\n",
    "    plt.show()\n",
    "    print(\"Histogram is truncated for first bin which achieves a frequency of \"+str(int(maxfreq)))\n",
    "    \n",
    "histogram(drug_freq)   "
   ]
  },
  {
   "cell_type": "code",
   "execution_count": null,
   "metadata": {},
   "outputs": [],
   "source": [
    "#https://stackoverflow.com/questions/893657/how-do-i-calculate-r-squared-using-python-and-numpy\n",
    "def rsquared(x, y):\n",
    "    \"\"\" Return R^2 where x and y are array-like.\"\"\"\n",
    "\n",
    "    slope, intercept, r_value, p_value, std_err = scipy.stats.linregress(x, y)\n",
    "    return r_value**2"
   ]
  }
 ],
 "metadata": {
  "kernelspec": {
   "display_name": "Python 3",
   "language": "python",
   "name": "python3"
  },
  "language_info": {
   "codemirror_mode": {
    "name": "ipython",
    "version": 3
   },
   "file_extension": ".py",
   "mimetype": "text/x-python",
   "name": "python",
   "nbconvert_exporter": "python",
   "pygments_lexer": "ipython3",
   "version": "3.6.8"
  }
 },
 "nbformat": 4,
 "nbformat_minor": 4
}
